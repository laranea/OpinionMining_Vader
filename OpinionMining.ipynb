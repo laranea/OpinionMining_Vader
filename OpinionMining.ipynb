{
  "nbformat": 4,
  "nbformat_minor": 0,
  "metadata": {
    "colab": {
      "name": "OpinionMining.ipynb",
      "version": "0.3.2",
      "provenance": [],
      "collapsed_sections": []
    },
    "kernelspec": {
      "name": "python3",
      "display_name": "Python 3"
    },
    "accelerator": "GPU"
  },
  "cells": [
    {
      "metadata": {
        "id": "0pAi7-cKzZyl",
        "colab_type": "code",
        "colab": {
          "base_uri": "https://localhost:8080/",
          "height": 70
        },
        "outputId": "e08a2b1f-d786-4b0e-a57e-a6386e4e1df4"
      },
      "cell_type": "code",
      "source": [
        "import tweepy\n",
        "import pandas as pd\n",
        "from nltk.sentiment.vader import SentimentIntensityAnalyzer\n",
        "import nltk\n",
        "nltk.download('vader_lexicon')"
      ],
      "execution_count": 14,
      "outputs": [
        {
          "output_type": "stream",
          "text": [
            "[nltk_data] Downloading package vader_lexicon to /root/nltk_data...\n",
            "[nltk_data]   Package vader_lexicon is already up-to-date!\n"
          ],
          "name": "stdout"
        },
        {
          "output_type": "execute_result",
          "data": {
            "text/plain": [
              "True"
            ]
          },
          "metadata": {
            "tags": []
          },
          "execution_count": 14
        }
      ]
    },
    {
      "metadata": {
        "id": "sCPHTRrGz80G",
        "colab_type": "code",
        "colab": {}
      },
      "cell_type": "code",
      "source": [
        "api_key = \"yCKJaoLqpucX8O4FfrrhW8Xpm\"\n",
        "api_secret_key = \"UQot2KjwEzWqD7v4bd7iU1dKeDsGakqZvSF7lw6of0sJCtq6QN\"\n",
        "\n",
        "access_token = \"826060187614269440-w3FheCDFq48gjIugWs102qDBYzO6QEH\"\n",
        "access_secret_token = \"gFUpaKN3WqMXNh4zAekGmn58zBwPRZLO7vGznSzRLkgmR\"\n",
        "\n",
        "auth = tweepy.OAuthHandler(api_key, api_secret_key)\n",
        "auth.set_access_token(access_token, access_secret_token)\n",
        "\n",
        "api = tweepy.API(auth)"
      ],
      "execution_count": 0,
      "outputs": []
    },
    {
      "metadata": {
        "id": "jfNeDEkG0uyb",
        "colab_type": "code",
        "colab": {
          "base_uri": "https://localhost:8080/",
          "height": 52
        },
        "outputId": "c65a8f20-50df-4b07-9b72-42260fd5d14e"
      },
      "cell_type": "code",
      "source": [
        "topic = input(\"Enter the topic you want to analyze?\")\n",
        "\n",
        "tweets = api.search(topic, count=10000000)\n",
        "\n",
        "\n",
        "data = pd.DataFrame(data=[tweet.text for tweet in tweets], columns=['Tweets'])\n",
        "\n",
        "# display(data)\n",
        "\n",
        "\n",
        "print(tweets[0].created_at)"
      ],
      "execution_count": 130,
      "outputs": [
        {
          "output_type": "stream",
          "text": [
            "Enter the topic you want to analyze?AIIMS\n",
            "2019-01-29 18:46:27\n"
          ],
          "name": "stdout"
        }
      ]
    },
    {
      "metadata": {
        "id": "TWSgjhH013sQ",
        "colab_type": "code",
        "colab": {
          "base_uri": "https://localhost:8080/",
          "height": 340
        },
        "outputId": "112328ab-7ff6-4025-a786-532851469c41"
      },
      "cell_type": "code",
      "source": [
        "sentiment_id = SentimentIntensityAnalyzer()\n",
        "\n",
        "\n",
        "lists = []\n",
        "\n",
        "for index, row in data.iterrows():\n",
        "  sentiment_score = sentiment_id.polarity_scores(row[\"Tweets\"])\n",
        "  lists.append(sentiment_score)\n",
        "  \n",
        "se = pd.Series(lists)\n",
        "data['polarity'] = se.values\n",
        "\n",
        "display(data.head(10))"
      ],
      "execution_count": 131,
      "outputs": [
        {
          "output_type": "display_data",
          "data": {
            "text/html": [
              "<div>\n",
              "<style scoped>\n",
              "    .dataframe tbody tr th:only-of-type {\n",
              "        vertical-align: middle;\n",
              "    }\n",
              "\n",
              "    .dataframe tbody tr th {\n",
              "        vertical-align: top;\n",
              "    }\n",
              "\n",
              "    .dataframe thead th {\n",
              "        text-align: right;\n",
              "    }\n",
              "</style>\n",
              "<table border=\"1\" class=\"dataframe\">\n",
              "  <thead>\n",
              "    <tr style=\"text-align: right;\">\n",
              "      <th></th>\n",
              "      <th>Tweets</th>\n",
              "      <th>polarity</th>\n",
              "    </tr>\n",
              "  </thead>\n",
              "  <tbody>\n",
              "    <tr>\n",
              "      <th>0</th>\n",
              "      <td>@AltNews @zoo_bear Here is a fun fact. There w...</td>\n",
              "      <td>{'neg': 0.09, 'neu': 0.776, 'pos': 0.135, 'com...</td>\n",
              "    </tr>\n",
              "    <tr>\n",
              "      <th>1</th>\n",
              "      <td>RT @VanathiBJP: AIIMS TN got delayed by 10+ yr...</td>\n",
              "      <td>{'neg': 0.059, 'neu': 0.941, 'pos': 0.0, 'comp...</td>\n",
              "    </tr>\n",
              "    <tr>\n",
              "      <th>2</th>\n",
              "      <td>RT @Timus27200514: I Request everyone to count...</td>\n",
              "      <td>{'neg': 0.0, 'neu': 1.0, 'pos': 0.0, 'compound...</td>\n",
              "    </tr>\n",
              "    <tr>\n",
              "      <th>3</th>\n",
              "      <td>I Request everyone to count from building Road...</td>\n",
              "      <td>{'neg': 0.0, 'neu': 1.0, 'pos': 0.0, 'compound...</td>\n",
              "    </tr>\n",
              "    <tr>\n",
              "      <th>4</th>\n",
              "      <td>@DrTamilisaiBJP இவர்களுக்கு பதில் களே தர வேண்ட...</td>\n",
              "      <td>{'neg': 0.0, 'neu': 1.0, 'pos': 0.0, 'compound...</td>\n",
              "    </tr>\n",
              "    <tr>\n",
              "      <th>5</th>\n",
              "      <td>RT @YeskayOfficial: பிரதமர் AIIMS மருத்துவமனைக...</td>\n",
              "      <td>{'neg': 0.0, 'neu': 1.0, 'pos': 0.0, 'compound...</td>\n",
              "    </tr>\n",
              "    <tr>\n",
              "      <th>6</th>\n",
              "      <td>RT @YeskayOfficial: வேலூர் CMC யை காப்பாற்ற, A...</td>\n",
              "      <td>{'neg': 0.0, 'neu': 1.0, 'pos': 0.0, 'compound...</td>\n",
              "    </tr>\n",
              "    <tr>\n",
              "      <th>7</th>\n",
              "      <td>@narendramodi Hlo sir \\nI am very glad that yo...</td>\n",
              "      <td>{'neg': 0.0, 'neu': 0.864, 'pos': 0.136, 'comp...</td>\n",
              "    </tr>\n",
              "    <tr>\n",
              "      <th>8</th>\n",
              "      <td>RT @sardar_mallika: @itz_me_sinchan Isiliye te...</td>\n",
              "      <td>{'neg': 0.0, 'neu': 1.0, 'pos': 0.0, 'compound...</td>\n",
              "    </tr>\n",
              "    <tr>\n",
              "      <th>9</th>\n",
              "      <td>@pravin2201 Hope you know AIIMS is a reputed m...</td>\n",
              "      <td>{'neg': 0.0, 'neu': 0.779, 'pos': 0.221, 'comp...</td>\n",
              "    </tr>\n",
              "  </tbody>\n",
              "</table>\n",
              "</div>"
            ],
            "text/plain": [
              "                                              Tweets  \\\n",
              "0  @AltNews @zoo_bear Here is a fun fact. There w...   \n",
              "1  RT @VanathiBJP: AIIMS TN got delayed by 10+ yr...   \n",
              "2  RT @Timus27200514: I Request everyone to count...   \n",
              "3  I Request everyone to count from building Road...   \n",
              "4  @DrTamilisaiBJP இவர்களுக்கு பதில் களே தர வேண்ட...   \n",
              "5  RT @YeskayOfficial: பிரதமர் AIIMS மருத்துவமனைக...   \n",
              "6  RT @YeskayOfficial: வேலூர் CMC யை காப்பாற்ற, A...   \n",
              "7  @narendramodi Hlo sir \\nI am very glad that yo...   \n",
              "8  RT @sardar_mallika: @itz_me_sinchan Isiliye te...   \n",
              "9  @pravin2201 Hope you know AIIMS is a reputed m...   \n",
              "\n",
              "                                            polarity  \n",
              "0  {'neg': 0.09, 'neu': 0.776, 'pos': 0.135, 'com...  \n",
              "1  {'neg': 0.059, 'neu': 0.941, 'pos': 0.0, 'comp...  \n",
              "2  {'neg': 0.0, 'neu': 1.0, 'pos': 0.0, 'compound...  \n",
              "3  {'neg': 0.0, 'neu': 1.0, 'pos': 0.0, 'compound...  \n",
              "4  {'neg': 0.0, 'neu': 1.0, 'pos': 0.0, 'compound...  \n",
              "5  {'neg': 0.0, 'neu': 1.0, 'pos': 0.0, 'compound...  \n",
              "6  {'neg': 0.0, 'neu': 1.0, 'pos': 0.0, 'compound...  \n",
              "7  {'neg': 0.0, 'neu': 0.864, 'pos': 0.136, 'comp...  \n",
              "8  {'neg': 0.0, 'neu': 1.0, 'pos': 0.0, 'compound...  \n",
              "9  {'neg': 0.0, 'neu': 0.779, 'pos': 0.221, 'comp...  "
            ]
          },
          "metadata": {
            "tags": []
          }
        }
      ]
    },
    {
      "metadata": {
        "id": "ho1YSyau3FmW",
        "colab_type": "code",
        "colab": {
          "base_uri": "https://localhost:8080/",
          "height": 70
        },
        "outputId": "417bd987-0045-4ac8-868b-5646a6e3afae"
      },
      "cell_type": "code",
      "source": [
        "neg_polarity = 0\n",
        "pos_polarity = 0\n",
        "neutral_polarity = 0\n",
        "\n",
        "for results in data['polarity']:\n",
        "  neg_polarity += results['neg']\n",
        "  pos_polarity += results['pos']\n",
        "  neutral_polarity += results['neu']\n",
        "  \n",
        "neg_polarity = neg_polarity/len(data)\n",
        "pos_polarity = pos_polarity/len(data)\n",
        "neutral_polarity = neutral_polarity/len(data)\n",
        "\n",
        "\n",
        "print(neg_polarity*100)\n",
        "print(pos_polarity*100)\n",
        "print(neutral_polarity*100)"
      ],
      "execution_count": 132,
      "outputs": [
        {
          "output_type": "stream",
          "text": [
            "4.1739999999999995\n",
            "5.328\n",
            "90.499\n"
          ],
          "name": "stdout"
        }
      ]
    },
    {
      "metadata": {
        "id": "GNQWZfyF_Tck",
        "colab_type": "code",
        "colab": {
          "base_uri": "https://localhost:8080/",
          "height": 52
        },
        "outputId": "c2c65757-bf60-4ceb-928c-38253215d429"
      },
      "cell_type": "code",
      "source": [
        "Total = pos_polarity + neg_polarity\n",
        "Pos_percentage = pos_polarity/ Total *100\n",
        "Neg_percentage = neg_polarity/Total * 100\n",
        "\n",
        "print(\"Positive: \"+str(Pos_percentage))\n",
        "print(\"Negative: \"+str(Neg_percentage))"
      ],
      "execution_count": 133,
      "outputs": [
        {
          "output_type": "stream",
          "text": [
            "Positive: 56.072405809303305\n",
            "Negative: 43.92759419069669\n"
          ],
          "name": "stdout"
        }
      ]
    }
  ]
}